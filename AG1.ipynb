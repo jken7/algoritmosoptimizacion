{
 "cells": [
  {
   "cell_type": "markdown",
   "metadata": {},
   "source": [
    "## AG1 - Actividad Guiada 1\n",
    "### Jim Aguirre Orosco"
   ]
  },
  {
   "cell_type": "code",
   "execution_count": 1,
   "metadata": {},
   "outputs": [
    {
     "name": "stdout",
     "output_type": "stream",
     "text": [
      "Mover disco de A a B\n",
      "Mover disco de A a C\n",
      "Mover disco de B a C\n",
      "Mover disco de A a B\n",
      "Mover disco de C a A\n",
      "Mover disco de C a B\n",
      "Mover disco de A a B\n",
      "Mover disco de A a C\n",
      "Mover disco de B a C\n",
      "Mover disco de B a A\n",
      "Mover disco de C a A\n",
      "Mover disco de B a C\n",
      "Mover disco de A a B\n",
      "Mover disco de A a C\n",
      "Mover disco de B a C\n"
     ]
    }
   ],
   "source": [
    "def torres_nano(N, origen, destino, pivote):\n",
    "    if N == 1:\n",
    "        print(\"Mover disco de\", origen, \"a\", destino)\n",
    "    else:\n",
    "        torres_nano(N-1, origen, pivote, destino)\n",
    "        print(\"Mover disco de\", origen, \"a\", destino)\n",
    "        torres_nano(N-1, pivote, destino, origen)    \n",
    "\n",
    "torres_nano(4, \"A\", \"C\", \"B\")"
   ]
  },
  {
   "cell_type": "code",
   "execution_count": 2,
   "metadata": {},
   "outputs": [
    {
     "name": "stdout",
     "output_type": "stream",
     "text": [
      "sistema:  [25, 10, 5, 1]\n"
     ]
    },
    {
     "data": {
      "text/plain": [
       "[2, 0, 0, 4]"
      ]
     },
     "execution_count": 2,
     "metadata": {},
     "output_type": "execute_result"
    }
   ],
   "source": [
    "def cambio_monedas(cantidad, sistema):\n",
    "    print(\"sistema: \", sistema)\n",
    "    solucion = [0 for i in range(len(sistema))]\n",
    "    valor_acumulado = 0.0\n",
    "\n",
    "    for i in range(len(sistema)):\n",
    "        monedas = int((cantidad - valor_acumulado) / sistema[i])\n",
    "        solucion[i] = monedas\n",
    "        valor_acumulado += monedas * sistema[i]\n",
    "\n",
    "        if valor_acumulado == cantidad:\n",
    "            return solucion\n",
    "\n",
    "cambio_monedas(54, [25, 10, 5, 1])"
   ]
  },
  {
   "cell_type": "code",
   "execution_count": 6,
   "metadata": {},
   "outputs": [],
   "source": [
    "import random\n",
    "\n",
    "LISTA_1D = [random.randrange(0, 10000) for i in range(1000)]\n",
    "LISTA_2D = [ (random.randrange(0, 10000) , random.randrange(0, 10000)) for i in range(1000)]"
   ]
  },
  {
   "cell_type": "code",
   "execution_count": 13,
   "metadata": {},
   "outputs": [
    {
     "name": "stdout",
     "output_type": "stream",
     "text": [
      "Con Fuerza Bruta: Los puntos más cercanos son 8786 y 8786 con una distancia de 0\n"
     ]
    }
   ],
   "source": [
    "def fuerza_bruta_1D(lst):\n",
    "    min_dist = float('inf')\n",
    "    p1, p2 = None, None\n",
    "\n",
    "    for i in range(len(lst)):\n",
    "        for j in range(i+1, len(lst)):\n",
    "            dist = abs(lst[i] - lst[j])\n",
    "            if dist < min_dist:\n",
    "                min_dist = dist\n",
    "                p1, p2 = lst[i], lst[j]\n",
    "\n",
    "    return p1, p2, min_dist\n",
    "\n",
    "\n",
    "# Utilizando Fuerza Bruta:\n",
    "p1, p2, min_dist = fuerza_bruta_1D(LISTA_1D)\n",
    "print(f\"Con Fuerza Bruta: Los puntos más cercanos son {p1} y {p2} con una distancia de {min_dist}\")\n"
   ]
  },
  {
   "cell_type": "code",
   "execution_count": 15,
   "metadata": {},
   "outputs": [
    {
     "name": "stdout",
     "output_type": "stream",
     "text": [
      "Con Divide y Vencerás: Los puntos más cercanos son 9976 y 9976 con una distancia de 0\n"
     ]
    }
   ],
   "source": [
    "def divide_y_venceras_1D(lst):\n",
    "    if len(lst) <= 3:\n",
    "        return fuerza_bruta_1D(lst)\n",
    "\n",
    "    mid = len(lst) // 2\n",
    "    mid_point = lst[mid]\n",
    "\n",
    "    left_half = lst[:mid]\n",
    "    right_half = lst[mid:]\n",
    "\n",
    "    p1_l, p2_l, min_left = divide_y_venceras_1D(left_half)\n",
    "    p1_r, p2_r, min_right = divide_y_venceras_1D(right_half)\n",
    "\n",
    "    if min_left < min_right:\n",
    "        d = min_left\n",
    "        min_pair = (p1_l, p2_l)\n",
    "    else:\n",
    "        d = min_right\n",
    "        min_pair = (p1_r, p2_r)\n",
    "\n",
    "    p1_c, p2_c, min_cross = fuerza_bruta_1D([x for x in lst if mid_point - d <= x <= mid_point + d])\n",
    "\n",
    "    if d < min_cross:\n",
    "        return min_pair[0], min_pair[1], d\n",
    "    else:\n",
    "        return p1_c, p2_c, min_cross\n",
    "\n",
    "p1, p2, min_dist = divide_y_venceras_1D(sorted(LISTA_1D))\n",
    "print(f\"Con Divide y Vencerás: Los puntos más cercanos son {p1} y {p2} con una distancia de {min_dist}\")"
   ]
  }
 ],
 "metadata": {
  "kernelspec": {
   "display_name": "Python 3",
   "language": "python",
   "name": "python3"
  },
  "language_info": {
   "codemirror_mode": {
    "name": "ipython",
    "version": 3
   },
   "file_extension": ".py",
   "mimetype": "text/x-python",
   "name": "python",
   "nbconvert_exporter": "python",
   "pygments_lexer": "ipython3",
   "version": "3.10.6"
  },
  "orig_nbformat": 4
 },
 "nbformat": 4,
 "nbformat_minor": 2
}
